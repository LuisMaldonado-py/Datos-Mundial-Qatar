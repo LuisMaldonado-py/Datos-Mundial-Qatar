{
  "cells": [
    {
      "cell_type": "markdown",
      "metadata": {
        "id": "view-in-github",
        "colab_type": "text"
      },
      "source": [
        "<a href=\"https://colab.research.google.com/github/luis0098/Datos-Mundial-Qatar/blob/main/Prediccion_Mundial.ipynb\" target=\"_parent\"><img src=\"https://colab.research.google.com/assets/colab-badge.svg\" alt=\"Open In Colab\"/></a>"
      ]
    },
    {
      "cell_type": "markdown",
      "metadata": {
        "id": "8pmZgQoZffGC"
      },
      "source": [
        "Librerias"
      ]
    },
    {
      "cell_type": "code",
      "execution_count": null,
      "metadata": {
        "id": "E7TPUnU5ffGF"
      },
      "outputs": [],
      "source": [
        "import pandas as pd\n",
        "import pickle\n",
        "from scipy.stats import poisson"
      ]
    },
    {
      "cell_type": "markdown",
      "metadata": {
        "id": "J3zBffZrffGG"
      },
      "source": [
        "Lectura de Datos"
      ]
    },
    {
      "cell_type": "code",
      "execution_count": null,
      "metadata": {
        "id": "ulYAIaLHffGH"
      },
      "outputs": [],
      "source": [
        "#Lectura de tabla en formato Diccionario de los Grupos \n",
        "dict_table = pickle.load(open('dict_table','rb'))\n",
        "#Lectura de datos historicos de goles\n",
        "df_historical_data = pd.read_csv('clean_fifa_worldcup_matches.csv')\n",
        "#Lectura de datos de fixture \n",
        "df_fixture = pd.read_csv('clean_fifa_worldcup_fixture.csv')"
      ]
    },
    {
      "cell_type": "markdown",
      "metadata": {
        "id": "Jw3HnYzsffGH"
      },
      "source": [
        "Grupos"
      ]
    },
    {
      "cell_type": "code",
      "execution_count": null,
      "metadata": {
        "id": "_fqWsPMhffGH",
        "outputId": "ce9f2f9a-9acb-4076-be89-c7b56c87c310"
      },
      "outputs": [
        {
          "data": {
            "text/html": [
              "<div>\n",
              "<style scoped>\n",
              "    .dataframe tbody tr th:only-of-type {\n",
              "        vertical-align: middle;\n",
              "    }\n",
              "\n",
              "    .dataframe tbody tr th {\n",
              "        vertical-align: top;\n",
              "    }\n",
              "\n",
              "    .dataframe thead th {\n",
              "        text-align: right;\n",
              "    }\n",
              "</style>\n",
              "<table border=\"1\" class=\"dataframe\">\n",
              "  <thead>\n",
              "    <tr style=\"text-align: right;\">\n",
              "      <th></th>\n",
              "      <th>Pos</th>\n",
              "      <th>Team</th>\n",
              "      <th>Pld</th>\n",
              "      <th>W</th>\n",
              "      <th>D</th>\n",
              "      <th>L</th>\n",
              "      <th>GF</th>\n",
              "      <th>GA</th>\n",
              "      <th>GD</th>\n",
              "      <th>Pts</th>\n",
              "    </tr>\n",
              "  </thead>\n",
              "  <tbody>\n",
              "    <tr>\n",
              "      <th>0</th>\n",
              "      <td>1</td>\n",
              "      <td>Qatar (H)</td>\n",
              "      <td>0</td>\n",
              "      <td>0</td>\n",
              "      <td>0</td>\n",
              "      <td>0</td>\n",
              "      <td>0</td>\n",
              "      <td>0</td>\n",
              "      <td>0</td>\n",
              "      <td>0</td>\n",
              "    </tr>\n",
              "    <tr>\n",
              "      <th>1</th>\n",
              "      <td>2</td>\n",
              "      <td>Ecuador</td>\n",
              "      <td>0</td>\n",
              "      <td>0</td>\n",
              "      <td>0</td>\n",
              "      <td>0</td>\n",
              "      <td>0</td>\n",
              "      <td>0</td>\n",
              "      <td>0</td>\n",
              "      <td>0</td>\n",
              "    </tr>\n",
              "    <tr>\n",
              "      <th>2</th>\n",
              "      <td>3</td>\n",
              "      <td>Senegal</td>\n",
              "      <td>0</td>\n",
              "      <td>0</td>\n",
              "      <td>0</td>\n",
              "      <td>0</td>\n",
              "      <td>0</td>\n",
              "      <td>0</td>\n",
              "      <td>0</td>\n",
              "      <td>0</td>\n",
              "    </tr>\n",
              "    <tr>\n",
              "      <th>3</th>\n",
              "      <td>4</td>\n",
              "      <td>Netherlands</td>\n",
              "      <td>0</td>\n",
              "      <td>0</td>\n",
              "      <td>0</td>\n",
              "      <td>0</td>\n",
              "      <td>0</td>\n",
              "      <td>0</td>\n",
              "      <td>0</td>\n",
              "      <td>0</td>\n",
              "    </tr>\n",
              "  </tbody>\n",
              "</table>\n",
              "</div>"
            ],
            "text/plain": [
              "   Pos         Team  Pld  W  D  L  GF  GA  GD  Pts\n",
              "0    1    Qatar (H)    0  0  0  0   0   0   0    0\n",
              "1    2      Ecuador    0  0  0  0   0   0   0    0\n",
              "2    3      Senegal    0  0  0  0   0   0   0    0\n",
              "3    4  Netherlands    0  0  0  0   0   0   0    0"
            ]
          },
          "execution_count": 3,
          "metadata": {},
          "output_type": "execute_result"
        }
      ],
      "source": [
        "dict_table[\"Group A\"]   #Group B   Group C    Group D  .... "
      ]
    },
    {
      "cell_type": "markdown",
      "metadata": {
        "id": "Bu2k_P0gffGI"
      },
      "source": [
        "# FUERZA DE UN EQUIPO"
      ]
    },
    {
      "cell_type": "markdown",
      "metadata": {
        "id": "AUseFBhCffGJ"
      },
      "source": [
        "Creacion de un DataFrame que me indique el \"poder\" que tiene un equipo para anotar un gol y qué tan \"debil\" es un equipo en recibir goles, segun la data historica de goles anotados a un equipo contrario en un partido y goles recibidos del equipo contrario en un partido."
      ]
    },
    {
      "cell_type": "code",
      "execution_count": null,
      "metadata": {
        "id": "EzExsE0JffGJ"
      },
      "outputs": [],
      "source": [
        "#Ordenando DataFrames\n",
        "df_home = df_historical_data[['HomeTeam', 'HomeGoals', 'AwayGoals']]\n",
        "df_away = df_historical_data[['AwayTeam', 'HomeGoals', 'AwayGoals']]\n",
        "df_home = df_home.rename(columns={'HomeTeam':'Team', 'HomeGoals': 'GoalsScored', 'AwayGoals': 'GoalsConceded'})\n",
        "df_away = df_away.rename(columns={'AwayTeam':'Team', 'HomeGoals': 'GoalsConceded', 'AwayGoals': 'GoalsScored'})\n",
        "#calculo del promedio de goles anotados por partido y promedio de goles que le anotaron por partido\n",
        "df_team_strength = pd.concat([df_home, df_away], ignore_index=True).groupby(['Team']).mean()"
      ]
    },
    {
      "cell_type": "markdown",
      "metadata": {
        "id": "EwajHffUffGK"
      },
      "source": [
        "Data Historica"
      ]
    },
    {
      "cell_type": "code",
      "execution_count": null,
      "metadata": {
        "id": "uY5e5fKdffGK",
        "outputId": "12cc1d51-def1-4fc2-ca7e-75257a6380d6"
      },
      "outputs": [
        {
          "data": {
            "text/html": [
              "<div>\n",
              "<style scoped>\n",
              "    .dataframe tbody tr th:only-of-type {\n",
              "        vertical-align: middle;\n",
              "    }\n",
              "\n",
              "    .dataframe tbody tr th {\n",
              "        vertical-align: top;\n",
              "    }\n",
              "\n",
              "    .dataframe thead th {\n",
              "        text-align: right;\n",
              "    }\n",
              "</style>\n",
              "<table border=\"1\" class=\"dataframe\">\n",
              "  <thead>\n",
              "    <tr style=\"text-align: right;\">\n",
              "      <th></th>\n",
              "      <th>HomeTeam</th>\n",
              "      <th>AwayTeam</th>\n",
              "      <th>Year</th>\n",
              "      <th>HomeGoals</th>\n",
              "      <th>AwayGoals</th>\n",
              "      <th>TotalGoals</th>\n",
              "    </tr>\n",
              "  </thead>\n",
              "  <tbody>\n",
              "    <tr>\n",
              "      <th>0</th>\n",
              "      <td>France</td>\n",
              "      <td>Mexico</td>\n",
              "      <td>1930</td>\n",
              "      <td>4</td>\n",
              "      <td>1</td>\n",
              "      <td>5</td>\n",
              "    </tr>\n",
              "    <tr>\n",
              "      <th>1</th>\n",
              "      <td>Uruguay</td>\n",
              "      <td>Argentina</td>\n",
              "      <td>1930</td>\n",
              "      <td>4</td>\n",
              "      <td>2</td>\n",
              "      <td>6</td>\n",
              "    </tr>\n",
              "    <tr>\n",
              "      <th>2</th>\n",
              "      <td>Uruguay</td>\n",
              "      <td>Yugoslavia</td>\n",
              "      <td>1930</td>\n",
              "      <td>6</td>\n",
              "      <td>1</td>\n",
              "      <td>7</td>\n",
              "    </tr>\n",
              "    <tr>\n",
              "      <th>3</th>\n",
              "      <td>Argentina</td>\n",
              "      <td>United States</td>\n",
              "      <td>1930</td>\n",
              "      <td>6</td>\n",
              "      <td>1</td>\n",
              "      <td>7</td>\n",
              "    </tr>\n",
              "    <tr>\n",
              "      <th>4</th>\n",
              "      <td>Paraguay</td>\n",
              "      <td>Belgium</td>\n",
              "      <td>1930</td>\n",
              "      <td>1</td>\n",
              "      <td>0</td>\n",
              "      <td>1</td>\n",
              "    </tr>\n",
              "    <tr>\n",
              "      <th>...</th>\n",
              "      <td>...</td>\n",
              "      <td>...</td>\n",
              "      <td>...</td>\n",
              "      <td>...</td>\n",
              "      <td>...</td>\n",
              "      <td>...</td>\n",
              "    </tr>\n",
              "    <tr>\n",
              "      <th>895</th>\n",
              "      <td>Brazil</td>\n",
              "      <td>Costa Rica</td>\n",
              "      <td>2018</td>\n",
              "      <td>2</td>\n",
              "      <td>0</td>\n",
              "      <td>2</td>\n",
              "    </tr>\n",
              "    <tr>\n",
              "      <th>896</th>\n",
              "      <td>Serbia</td>\n",
              "      <td>Switzerland</td>\n",
              "      <td>2018</td>\n",
              "      <td>1</td>\n",
              "      <td>2</td>\n",
              "      <td>3</td>\n",
              "    </tr>\n",
              "    <tr>\n",
              "      <th>897</th>\n",
              "      <td>Serbia</td>\n",
              "      <td>Brazil</td>\n",
              "      <td>2018</td>\n",
              "      <td>0</td>\n",
              "      <td>2</td>\n",
              "      <td>2</td>\n",
              "    </tr>\n",
              "    <tr>\n",
              "      <th>898</th>\n",
              "      <td>France</td>\n",
              "      <td>Peru</td>\n",
              "      <td>2018</td>\n",
              "      <td>1</td>\n",
              "      <td>0</td>\n",
              "      <td>1</td>\n",
              "    </tr>\n",
              "    <tr>\n",
              "      <th>899</th>\n",
              "      <td>Brazil</td>\n",
              "      <td>Belgium</td>\n",
              "      <td>2018</td>\n",
              "      <td>1</td>\n",
              "      <td>2</td>\n",
              "      <td>3</td>\n",
              "    </tr>\n",
              "  </tbody>\n",
              "</table>\n",
              "<p>900 rows × 6 columns</p>\n",
              "</div>"
            ],
            "text/plain": [
              "      HomeTeam       AwayTeam  Year  HomeGoals  AwayGoals  TotalGoals\n",
              "0       France         Mexico  1930          4          1           5\n",
              "1      Uruguay      Argentina  1930          4          2           6\n",
              "2      Uruguay     Yugoslavia  1930          6          1           7\n",
              "3    Argentina  United States  1930          6          1           7\n",
              "4     Paraguay        Belgium  1930          1          0           1\n",
              "..         ...            ...   ...        ...        ...         ...\n",
              "895     Brazil     Costa Rica  2018          2          0           2\n",
              "896     Serbia    Switzerland  2018          1          2           3\n",
              "897     Serbia         Brazil  2018          0          2           2\n",
              "898     France           Peru  2018          1          0           1\n",
              "899     Brazil        Belgium  2018          1          2           3\n",
              "\n",
              "[900 rows x 6 columns]"
            ]
          },
          "execution_count": 5,
          "metadata": {},
          "output_type": "execute_result"
        }
      ],
      "source": [
        "df_historical_data"
      ]
    },
    {
      "cell_type": "markdown",
      "metadata": {
        "id": "npCkapV4ffGK"
      },
      "source": [
        "Cabe resalta que la condicion de \"Local\" y \"Visitante\" solo es un etiqueta de nombre, debido a que este parametro no afecta en un mundial debido a que todos los paises juegan los partidos de Local en Qatar. El parametro de \"Local\" y \"Visitante\" afecta en los partidos desarrollados en Ligas."
      ]
    },
    {
      "cell_type": "code",
      "execution_count": null,
      "metadata": {
        "id": "cb0w5gr8ffGL",
        "outputId": "9b264809-2c9b-467f-c364-5ab855520aa5"
      },
      "outputs": [
        {
          "data": {
            "text/html": [
              "<div>\n",
              "<style scoped>\n",
              "    .dataframe tbody tr th:only-of-type {\n",
              "        vertical-align: middle;\n",
              "    }\n",
              "\n",
              "    .dataframe tbody tr th {\n",
              "        vertical-align: top;\n",
              "    }\n",
              "\n",
              "    .dataframe thead th {\n",
              "        text-align: right;\n",
              "    }\n",
              "</style>\n",
              "<table border=\"1\" class=\"dataframe\">\n",
              "  <thead>\n",
              "    <tr style=\"text-align: right;\">\n",
              "      <th></th>\n",
              "      <th>GoalsScored</th>\n",
              "      <th>GoalsConceded</th>\n",
              "    </tr>\n",
              "    <tr>\n",
              "      <th>Team</th>\n",
              "      <th></th>\n",
              "      <th></th>\n",
              "    </tr>\n",
              "  </thead>\n",
              "  <tbody>\n",
              "    <tr>\n",
              "      <th>Algeria</th>\n",
              "      <td>1.000000</td>\n",
              "      <td>1.461538</td>\n",
              "    </tr>\n",
              "    <tr>\n",
              "      <th>Angola</th>\n",
              "      <td>0.333333</td>\n",
              "      <td>0.666667</td>\n",
              "    </tr>\n",
              "    <tr>\n",
              "      <th>Argentina</th>\n",
              "      <td>1.691358</td>\n",
              "      <td>1.148148</td>\n",
              "    </tr>\n",
              "    <tr>\n",
              "      <th>Australia</th>\n",
              "      <td>0.812500</td>\n",
              "      <td>1.937500</td>\n",
              "    </tr>\n",
              "    <tr>\n",
              "      <th>Austria</th>\n",
              "      <td>1.482759</td>\n",
              "      <td>1.620690</td>\n",
              "    </tr>\n",
              "    <tr>\n",
              "      <th>...</th>\n",
              "      <td>...</td>\n",
              "      <td>...</td>\n",
              "    </tr>\n",
              "    <tr>\n",
              "      <th>Uruguay</th>\n",
              "      <td>1.553571</td>\n",
              "      <td>1.321429</td>\n",
              "    </tr>\n",
              "    <tr>\n",
              "      <th>Wales</th>\n",
              "      <td>0.800000</td>\n",
              "      <td>0.800000</td>\n",
              "    </tr>\n",
              "    <tr>\n",
              "      <th>West Germany</th>\n",
              "      <td>2.112903</td>\n",
              "      <td>1.241935</td>\n",
              "    </tr>\n",
              "    <tr>\n",
              "      <th>Yugoslavia</th>\n",
              "      <td>1.666667</td>\n",
              "      <td>1.272727</td>\n",
              "    </tr>\n",
              "    <tr>\n",
              "      <th>Zaire</th>\n",
              "      <td>0.000000</td>\n",
              "      <td>4.666667</td>\n",
              "    </tr>\n",
              "  </tbody>\n",
              "</table>\n",
              "<p>85 rows × 2 columns</p>\n",
              "</div>"
            ],
            "text/plain": [
              "              GoalsScored  GoalsConceded\n",
              "Team                                    \n",
              "Algeria          1.000000       1.461538\n",
              "Angola           0.333333       0.666667\n",
              "Argentina        1.691358       1.148148\n",
              "Australia        0.812500       1.937500\n",
              "Austria          1.482759       1.620690\n",
              "...                   ...            ...\n",
              "Uruguay          1.553571       1.321429\n",
              "Wales            0.800000       0.800000\n",
              "West Germany     2.112903       1.241935\n",
              "Yugoslavia       1.666667       1.272727\n",
              "Zaire            0.000000       4.666667\n",
              "\n",
              "[85 rows x 2 columns]"
            ]
          },
          "execution_count": 6,
          "metadata": {},
          "output_type": "execute_result"
        }
      ],
      "source": [
        "#DataFrame de la Fuerza de un Equipo\n",
        "df_team_strength"
      ]
    },
    {
      "cell_type": "markdown",
      "metadata": {
        "id": "7wDOztXYffGL"
      },
      "source": [
        "Observamos que Argentina tiene más probabilidad de anotar un gol a que le anoten un gol.\n",
        "Austria tiene una probabilidad parecidad a Argentina de anotar un gol, pero cuenta con mayor probabilidad de que le anoten un gol.\n",
        "En un escenario de Argentina vs Austria... Austria perderia ante Argentina debido a que Argentina cuenta con una mayor probabilidad de anotar un gol y Austria cuenta con una mayor probabilidad de que le anoten un gol.\n",
        "Una posible desventaja de este analisis es que la probabilidad que tienen los equipos depende de cuantos goles ha metido en un partido y esto es un dato muy dependiente de las circunstancias del escenario."
      ]
    },
    {
      "cell_type": "markdown",
      "metadata": {
        "id": "dpAmhNI2ffGL"
      },
      "source": [
        "# FUNCION PREDICCION DE PUNTAJES"
      ]
    },
    {
      "cell_type": "markdown",
      "metadata": {
        "id": "z2c4YUmyffGL"
      },
      "source": [
        "**Usaremos la Distribucion de Poisson**\n",
        "\n",
        "\n",
        "La distribucion Poisson es una distribucion discreta que describe el numero de eventos que ocurren en un intervalo de tiempo fijo o region de oportunidad. Definiremos al *GOL* como un evento que puede ocurrir en los 90 minutos de un partido de futbol\n",
        "\n",
        "Condiciones para considerar la Distribucion de Poisson\n",
        "\n",
        "1. El numero de Eventos se puede contar\n",
        "\n",
        "2. La ocurrencia de Eventos son independientes\n",
        "\n",
        "3. La tasa a la que ocurren los eventos son constantes\n",
        "\n",
        "4. Dos eventos no puede ocurrir exactamente en el mismo instante de tiempo\n",
        "    \n",
        "**Se cumple la Condicion 1**: El evento con el que estamos trabajando, los goles anotados, se pueden contar. \n",
        "\n",
        "**Se cumple la Condicion 2**: Estamos considerando que la ocurrencia de un gol no afecta la ocurrencia de otro gol en el transcurso del partido. En la practica esto no se cumple debido a que la ocurrencia de un gol puede motivar al equipo que lo anoto y desalentar al equipo al que le anotaron, pero nosotros consideraremos que la ocurrencia de un gol no afectará de que otro gol ocurra.\n",
        "\n",
        "**Se cumple la Condicion 3**: Esta condicion está relacionada a que la ocurrencia del evento en un intervalo de tiempo debe ser la misma probabilidad de que ocurra en otro intervalo de tiempo y nuestro evento cumple con esa condicion debido a que la probabilidad de que ocurra un gol al enfrentarse dos equipos en un partido de 90 minutos es la misma a que esos dos equipos se enfrenten en otro partido de 90 minutos\n",
        "\n",
        "**Se cumple la Condicion 4**: Dos goles no pueden ser anotados en el mismo instante de tiempo\n",
        "\n",
        "\n",
        "Existe mucho más parametros pero por tratarse de un caso practico no los vamos a considerar"
      ]
    },
    {
      "cell_type": "code",
      "execution_count": null,
      "metadata": {
        "id": "NCL2Cc7LffGM"
      },
      "outputs": [],
      "source": [
        "#Funcion prediccion\n",
        "def predict_points(home, away):\n",
        "    if home in df_team_strength.index and away in df_team_strength.index:\n",
        "        # goals_scored * goals_conceded\n",
        "        lamb_home = df_team_strength.at[home,'GoalsScored']*df_team_strength.at[away,'GoalsConceded']\n",
        "        lamb_away = df_team_strength.at[away,'GoalsScored']*df_team_strength.at[home,'GoalsConceded']\n",
        "        prob_home, prob_away, prob_draw = 0, 0, 0\n",
        "        for x in range(0,11): #number of goals home team\n",
        "            for y in range(0, 11): #number of goals away team\n",
        "                p = poisson.pmf(x, lamb_home) * poisson.pmf(y, lamb_away)\n",
        "                if x == y:\n",
        "                    prob_draw += p\n",
        "                elif x > y:\n",
        "                    prob_home += p\n",
        "                else:\n",
        "                    prob_away += p\n",
        "        \n",
        "        points_home = 3 * prob_home + prob_draw\n",
        "        points_away = 3 * prob_away + prob_draw\n",
        "        return (points_home, points_away)\n",
        "    else:\n",
        "        return (0, 0)"
      ]
    },
    {
      "cell_type": "markdown",
      "metadata": {
        "id": "3Z-hI2YMffGM"
      },
      "source": [
        "# FUNCION DE PRUEBA"
      ]
    },
    {
      "cell_type": "markdown",
      "metadata": {
        "id": "m2e5_qwoffGM"
      },
      "source": [
        "Observamos que en un partido Argentinca vs Mexico, Argentinca tiene una probabilidad de ganar de 2.3129 mientras que Mexico tiene una probabilidad de 0.5378 y nosotros consideraremos que ganará Argentina.\n"
      ]
    },
    {
      "cell_type": "code",
      "execution_count": null,
      "metadata": {
        "id": "Y-nRVuMbffGM",
        "outputId": "a8d629dd-4355-470e-f5a9-15b68d80efe5"
      },
      "outputs": [
        {
          "name": "stdout",
          "output_type": "stream",
          "text": [
            "(2.3129151525530505, 0.5378377125059863)\n"
          ]
        }
      ],
      "source": [
        "print(predict_points('Argentina', 'Mexico'))"
      ]
    },
    {
      "cell_type": "markdown",
      "metadata": {
        "id": "T5B8CWCUffGN"
      },
      "source": [
        "Observamos que al no contar con data historica de Qatar no podemos predecir cómo será su desempeño contra Ecuador y en general, si no tenemos datos historicos de un equipo participando en un mundial vamos a considerar que no podremos predecir como será el resultado.\n",
        "\n",
        "Por lo que consideraremos que Qatar no va a pasar la fase de grupos del Mundial."
      ]
    },
    {
      "cell_type": "code",
      "execution_count": null,
      "metadata": {
        "id": "Y5wDmyBPffGN",
        "outputId": "b9444b1d-8b5a-4a7f-8786-9c633484c039"
      },
      "outputs": [
        {
          "name": "stdout",
          "output_type": "stream",
          "text": [
            "(0, 0)\n"
          ]
        }
      ],
      "source": [
        "print(predict_points('Qatar (H)', 'Ecuador')) # Qatar vs Team X -> 0 puntos para ambos"
      ]
    },
    {
      "cell_type": "markdown",
      "metadata": {
        "id": "JQ4RR4ftffGN"
      },
      "source": [
        "**Actualizado**:\n",
        "El modelo no puede predecir si Ecuador le iba a ganar a Qatar, el partido de Qatar vs Ecuador que se realizó hace unos dias dio como ganador a Ecuador.\n",
        "Nuestro modelo predice que Qatar no pasará la fase de grupos"
      ]
    },
    {
      "cell_type": "markdown",
      "metadata": {
        "id": "L0DRV7nIffGN"
      },
      "source": [
        "# PREDICCION DEL MUNDIAL"
      ]
    },
    {
      "cell_type": "markdown",
      "metadata": {
        "id": "LtCOPw-xffGO"
      },
      "source": [
        "## FASE DE GRUPOS"
      ]
    },
    {
      "cell_type": "code",
      "execution_count": null,
      "metadata": {
        "id": "dStnKJ0CffGO"
      },
      "outputs": [],
      "source": [
        "#creamos los dataframe de la Fase de grupos:\n",
        "df_fixture_group_48 = df_fixture[:48].copy()\n",
        "#creamos los dataframe de los Octavos de finales:\n",
        "df_fixture_knockout = df_fixture[48:56].copy()\n",
        "#creamos los dataframe de los Cuartos de final:\n",
        "df_fixture_quarter = df_fixture[56:60].copy()\n",
        "#creamos los dataframe de la Semifinal:\n",
        "df_fixture_semi = df_fixture[60:62].copy()\n",
        "#creamos los dataframe de la Final:\n",
        "df_fixture_final = df_fixture[62:].copy()"
      ]
    },
    {
      "cell_type": "code",
      "execution_count": null,
      "metadata": {
        "id": "Qa9JdXTsffGO"
      },
      "outputs": [],
      "source": [
        "#Corremos todos los partidos de la fase de frupos y actualizamos las tablas de cada grupo\n",
        "for group in dict_table:\n",
        "    teams_in_group = dict_table[group]['Team'].values\n",
        "    df_fixture_group_6 = df_fixture_group_48[df_fixture_group_48['home'].isin(teams_in_group)]\n",
        "    for index, row in df_fixture_group_6.iterrows():\n",
        "        home, away = row['home'], row['away']\n",
        "        points_home, points_away = predict_points(home, away)\n",
        "        dict_table[group].loc[dict_table[group]['Team'] == home, 'Pts'] += points_home\n",
        "        dict_table[group].loc[dict_table[group]['Team'] == away, 'Pts'] += points_away\n",
        "\n",
        "    dict_table[group] = dict_table[group].sort_values('Pts', ascending=False).reset_index()\n",
        "    dict_table[group] = dict_table[group][['Team', 'Pts']]\n",
        "    dict_table[group] = dict_table[group].round(0)"
      ]
    },
    {
      "cell_type": "markdown",
      "metadata": {
        "id": "pnWwe5etffGO"
      },
      "source": [
        "Resultado del puntaje por cada Grupo en la Fase de Grupos"
      ]
    },
    {
      "cell_type": "code",
      "execution_count": null,
      "metadata": {
        "id": "c1ClG4cPffGO",
        "outputId": "db845d30-7ecf-44f8-9854-9c7c19776a1e"
      },
      "outputs": [
        {
          "data": {
            "text/html": [
              "<div>\n",
              "<style scoped>\n",
              "    .dataframe tbody tr th:only-of-type {\n",
              "        vertical-align: middle;\n",
              "    }\n",
              "\n",
              "    .dataframe tbody tr th {\n",
              "        vertical-align: top;\n",
              "    }\n",
              "\n",
              "    .dataframe thead th {\n",
              "        text-align: right;\n",
              "    }\n",
              "</style>\n",
              "<table border=\"1\" class=\"dataframe\">\n",
              "  <thead>\n",
              "    <tr style=\"text-align: right;\">\n",
              "      <th></th>\n",
              "      <th>Team</th>\n",
              "      <th>Pts</th>\n",
              "    </tr>\n",
              "  </thead>\n",
              "  <tbody>\n",
              "    <tr>\n",
              "      <th>0</th>\n",
              "      <td>Netherlands</td>\n",
              "      <td>4.0</td>\n",
              "    </tr>\n",
              "    <tr>\n",
              "      <th>1</th>\n",
              "      <td>Senegal</td>\n",
              "      <td>2.0</td>\n",
              "    </tr>\n",
              "    <tr>\n",
              "      <th>2</th>\n",
              "      <td>Ecuador</td>\n",
              "      <td>2.0</td>\n",
              "    </tr>\n",
              "    <tr>\n",
              "      <th>3</th>\n",
              "      <td>Qatar (H)</td>\n",
              "      <td>0.0</td>\n",
              "    </tr>\n",
              "  </tbody>\n",
              "</table>\n",
              "</div>"
            ],
            "text/plain": [
              "          Team  Pts\n",
              "0  Netherlands  4.0\n",
              "1      Senegal  2.0\n",
              "2      Ecuador  2.0\n",
              "3    Qatar (H)  0.0"
            ]
          },
          "execution_count": 12,
          "metadata": {},
          "output_type": "execute_result"
        }
      ],
      "source": [
        "dict_table['Group A']"
      ]
    },
    {
      "cell_type": "markdown",
      "metadata": {
        "id": "iwT5tLq4ffGO"
      },
      "source": [
        "# OCTAVOS DE FINAL"
      ]
    },
    {
      "cell_type": "markdown",
      "metadata": {
        "id": "3eJZlAPRffGO"
      },
      "source": [
        "Creamos los escenarios de los partidos que se jugaran en Octavos de Final"
      ]
    },
    {
      "cell_type": "code",
      "execution_count": null,
      "metadata": {
        "id": "-IKR-QkSffGO",
        "outputId": "d207c318-6f31-4e83-ecdc-f954a055ed07"
      },
      "outputs": [
        {
          "data": {
            "text/html": [
              "<div>\n",
              "<style scoped>\n",
              "    .dataframe tbody tr th:only-of-type {\n",
              "        vertical-align: middle;\n",
              "    }\n",
              "\n",
              "    .dataframe tbody tr th {\n",
              "        vertical-align: top;\n",
              "    }\n",
              "\n",
              "    .dataframe thead th {\n",
              "        text-align: right;\n",
              "    }\n",
              "</style>\n",
              "<table border=\"1\" class=\"dataframe\">\n",
              "  <thead>\n",
              "    <tr style=\"text-align: right;\">\n",
              "      <th></th>\n",
              "      <th>home</th>\n",
              "      <th>score</th>\n",
              "      <th>away</th>\n",
              "      <th>year</th>\n",
              "      <th>winner</th>\n",
              "    </tr>\n",
              "  </thead>\n",
              "  <tbody>\n",
              "    <tr>\n",
              "      <th>48</th>\n",
              "      <td>Netherlands</td>\n",
              "      <td>Match 49</td>\n",
              "      <td>Wales</td>\n",
              "      <td>2022</td>\n",
              "      <td>?</td>\n",
              "    </tr>\n",
              "    <tr>\n",
              "      <th>49</th>\n",
              "      <td>Argentina</td>\n",
              "      <td>Match 50</td>\n",
              "      <td>Denmark</td>\n",
              "      <td>2022</td>\n",
              "      <td>?</td>\n",
              "    </tr>\n",
              "    <tr>\n",
              "      <th>50</th>\n",
              "      <td>France</td>\n",
              "      <td>Match 52</td>\n",
              "      <td>Poland</td>\n",
              "      <td>2022</td>\n",
              "      <td>?</td>\n",
              "    </tr>\n",
              "    <tr>\n",
              "      <th>51</th>\n",
              "      <td>England</td>\n",
              "      <td>Match 51</td>\n",
              "      <td>Senegal</td>\n",
              "      <td>2022</td>\n",
              "      <td>?</td>\n",
              "    </tr>\n",
              "    <tr>\n",
              "      <th>52</th>\n",
              "      <td>Germany</td>\n",
              "      <td>Match 53</td>\n",
              "      <td>Belgium</td>\n",
              "      <td>2022</td>\n",
              "      <td>?</td>\n",
              "    </tr>\n",
              "    <tr>\n",
              "      <th>53</th>\n",
              "      <td>Brazil</td>\n",
              "      <td>Match 54</td>\n",
              "      <td>Uruguay</td>\n",
              "      <td>2022</td>\n",
              "      <td>?</td>\n",
              "    </tr>\n",
              "    <tr>\n",
              "      <th>54</th>\n",
              "      <td>Croatia</td>\n",
              "      <td>Match 55</td>\n",
              "      <td>Spain</td>\n",
              "      <td>2022</td>\n",
              "      <td>?</td>\n",
              "    </tr>\n",
              "    <tr>\n",
              "      <th>55</th>\n",
              "      <td>Portugal</td>\n",
              "      <td>Match 56</td>\n",
              "      <td>Switzerland</td>\n",
              "      <td>2022</td>\n",
              "      <td>?</td>\n",
              "    </tr>\n",
              "  </tbody>\n",
              "</table>\n",
              "</div>"
            ],
            "text/plain": [
              "           home     score         away  year winner\n",
              "48  Netherlands  Match 49        Wales  2022      ?\n",
              "49    Argentina  Match 50      Denmark  2022      ?\n",
              "50       France  Match 52       Poland  2022      ?\n",
              "51      England  Match 51      Senegal  2022      ?\n",
              "52      Germany  Match 53      Belgium  2022      ?\n",
              "53       Brazil  Match 54      Uruguay  2022      ?\n",
              "54      Croatia  Match 55        Spain  2022      ?\n",
              "55     Portugal  Match 56  Switzerland  2022      ?"
            ]
          },
          "execution_count": 13,
          "metadata": {},
          "output_type": "execute_result"
        }
      ],
      "source": [
        "for group in dict_table:\n",
        "    group_winner = dict_table[group].loc[0, 'Team']\n",
        "    runners_up = dict_table[group].loc[1, 'Team']\n",
        "    df_fixture_knockout.replace({f'Winners {group}':group_winner,\n",
        "                                 f'Runners-up {group}':runners_up}, inplace=True)\n",
        "\n",
        "df_fixture_knockout['winner'] = '?'\n",
        "df_fixture_knockout"
      ]
    },
    {
      "cell_type": "markdown",
      "metadata": {
        "id": "_CQY1QJXffGP"
      },
      "source": [
        "Predecimos los ganadores de los Octavos de Final"
      ]
    },
    {
      "cell_type": "code",
      "execution_count": null,
      "metadata": {
        "id": "v4JicXEMffGP",
        "outputId": "8f059c27-5d28-4832-be1b-c86d64e248b1"
      },
      "outputs": [
        {
          "data": {
            "text/html": [
              "<div>\n",
              "<style scoped>\n",
              "    .dataframe tbody tr th:only-of-type {\n",
              "        vertical-align: middle;\n",
              "    }\n",
              "\n",
              "    .dataframe tbody tr th {\n",
              "        vertical-align: top;\n",
              "    }\n",
              "\n",
              "    .dataframe thead th {\n",
              "        text-align: right;\n",
              "    }\n",
              "</style>\n",
              "<table border=\"1\" class=\"dataframe\">\n",
              "  <thead>\n",
              "    <tr style=\"text-align: right;\">\n",
              "      <th></th>\n",
              "      <th>home</th>\n",
              "      <th>score</th>\n",
              "      <th>away</th>\n",
              "      <th>year</th>\n",
              "      <th>winner</th>\n",
              "    </tr>\n",
              "  </thead>\n",
              "  <tbody>\n",
              "    <tr>\n",
              "      <th>48</th>\n",
              "      <td>Netherlands</td>\n",
              "      <td>Match 49</td>\n",
              "      <td>Wales</td>\n",
              "      <td>2022</td>\n",
              "      <td>Netherlands</td>\n",
              "    </tr>\n",
              "    <tr>\n",
              "      <th>49</th>\n",
              "      <td>Argentina</td>\n",
              "      <td>Match 50</td>\n",
              "      <td>Denmark</td>\n",
              "      <td>2022</td>\n",
              "      <td>Argentina</td>\n",
              "    </tr>\n",
              "    <tr>\n",
              "      <th>50</th>\n",
              "      <td>France</td>\n",
              "      <td>Match 52</td>\n",
              "      <td>Poland</td>\n",
              "      <td>2022</td>\n",
              "      <td>France</td>\n",
              "    </tr>\n",
              "    <tr>\n",
              "      <th>51</th>\n",
              "      <td>England</td>\n",
              "      <td>Match 51</td>\n",
              "      <td>Senegal</td>\n",
              "      <td>2022</td>\n",
              "      <td>England</td>\n",
              "    </tr>\n",
              "    <tr>\n",
              "      <th>52</th>\n",
              "      <td>Germany</td>\n",
              "      <td>Match 53</td>\n",
              "      <td>Belgium</td>\n",
              "      <td>2022</td>\n",
              "      <td>Germany</td>\n",
              "    </tr>\n",
              "    <tr>\n",
              "      <th>53</th>\n",
              "      <td>Brazil</td>\n",
              "      <td>Match 54</td>\n",
              "      <td>Uruguay</td>\n",
              "      <td>2022</td>\n",
              "      <td>Brazil</td>\n",
              "    </tr>\n",
              "    <tr>\n",
              "      <th>54</th>\n",
              "      <td>Croatia</td>\n",
              "      <td>Match 55</td>\n",
              "      <td>Spain</td>\n",
              "      <td>2022</td>\n",
              "      <td>Spain</td>\n",
              "    </tr>\n",
              "    <tr>\n",
              "      <th>55</th>\n",
              "      <td>Portugal</td>\n",
              "      <td>Match 56</td>\n",
              "      <td>Switzerland</td>\n",
              "      <td>2022</td>\n",
              "      <td>Portugal</td>\n",
              "    </tr>\n",
              "  </tbody>\n",
              "</table>\n",
              "</div>"
            ],
            "text/plain": [
              "           home     score         away  year       winner\n",
              "48  Netherlands  Match 49        Wales  2022  Netherlands\n",
              "49    Argentina  Match 50      Denmark  2022    Argentina\n",
              "50       France  Match 52       Poland  2022       France\n",
              "51      England  Match 51      Senegal  2022      England\n",
              "52      Germany  Match 53      Belgium  2022      Germany\n",
              "53       Brazil  Match 54      Uruguay  2022       Brazil\n",
              "54      Croatia  Match 55        Spain  2022        Spain\n",
              "55     Portugal  Match 56  Switzerland  2022     Portugal"
            ]
          },
          "execution_count": 14,
          "metadata": {},
          "output_type": "execute_result"
        }
      ],
      "source": [
        "def get_winner(df_fixture_updated):\n",
        "    for index, row in df_fixture_updated.iterrows():\n",
        "        home, away = row['home'], row['away']\n",
        "        points_home, points_away = predict_points(home, away)\n",
        "        if points_home > points_away:\n",
        "            winner = home\n",
        "        else:\n",
        "            winner = away\n",
        "        df_fixture_updated.loc[index, 'winner'] = winner\n",
        "    return df_fixture_updated\n",
        "get_winner(df_fixture_knockout)"
      ]
    },
    {
      "cell_type": "markdown",
      "metadata": {
        "id": "Edgzm64EffGP"
      },
      "source": [
        "Observamos que nuestro modelo predice que Brasil le gana a Uruguay"
      ]
    },
    {
      "cell_type": "markdown",
      "metadata": {
        "id": "1l7Zeh4qffGP"
      },
      "source": [
        "# CUARTOS DE FINAL"
      ]
    },
    {
      "cell_type": "markdown",
      "metadata": {
        "id": "A3KpHizQffGP"
      },
      "source": [
        "Actualizamos la tabla para considerar los equipos que pasaron a Cuartos de Final"
      ]
    },
    {
      "cell_type": "code",
      "execution_count": null,
      "metadata": {
        "id": "aT-XjygrffGP"
      },
      "outputs": [],
      "source": [
        "def update_table(df_fixture_round_1, df_fixture_round_2):\n",
        "    for index, row in df_fixture_round_1.iterrows():\n",
        "        winner = df_fixture_round_1.loc[index, 'winner']\n",
        "        match = df_fixture_round_1.loc[index, 'score']\n",
        "        df_fixture_round_2.replace({f'Winners {match}':winner}, inplace=True)\n",
        "    df_fixture_round_2['winner'] = '?'\n",
        "    return df_fixture_round_2"
      ]
    },
    {
      "cell_type": "markdown",
      "metadata": {
        "id": "jLvNUzfnffGP"
      },
      "source": [
        "Creamos los escenarios de los partidos que se jugaran en Cuartos de Final"
      ]
    },
    {
      "cell_type": "code",
      "execution_count": null,
      "metadata": {
        "id": "51NYPBccffGQ",
        "outputId": "2c27e87d-6bdb-4746-9204-e8addd0dd705"
      },
      "outputs": [
        {
          "data": {
            "text/html": [
              "<div>\n",
              "<style scoped>\n",
              "    .dataframe tbody tr th:only-of-type {\n",
              "        vertical-align: middle;\n",
              "    }\n",
              "\n",
              "    .dataframe tbody tr th {\n",
              "        vertical-align: top;\n",
              "    }\n",
              "\n",
              "    .dataframe thead th {\n",
              "        text-align: right;\n",
              "    }\n",
              "</style>\n",
              "<table border=\"1\" class=\"dataframe\">\n",
              "  <thead>\n",
              "    <tr style=\"text-align: right;\">\n",
              "      <th></th>\n",
              "      <th>home</th>\n",
              "      <th>score</th>\n",
              "      <th>away</th>\n",
              "      <th>year</th>\n",
              "      <th>winner</th>\n",
              "    </tr>\n",
              "  </thead>\n",
              "  <tbody>\n",
              "    <tr>\n",
              "      <th>56</th>\n",
              "      <td>Germany</td>\n",
              "      <td>Match 58</td>\n",
              "      <td>Brazil</td>\n",
              "      <td>2022</td>\n",
              "      <td>?</td>\n",
              "    </tr>\n",
              "    <tr>\n",
              "      <th>57</th>\n",
              "      <td>Netherlands</td>\n",
              "      <td>Match 57</td>\n",
              "      <td>Argentina</td>\n",
              "      <td>2022</td>\n",
              "      <td>?</td>\n",
              "    </tr>\n",
              "    <tr>\n",
              "      <th>58</th>\n",
              "      <td>Spain</td>\n",
              "      <td>Match 60</td>\n",
              "      <td>Portugal</td>\n",
              "      <td>2022</td>\n",
              "      <td>?</td>\n",
              "    </tr>\n",
              "    <tr>\n",
              "      <th>59</th>\n",
              "      <td>England</td>\n",
              "      <td>Match 59</td>\n",
              "      <td>France</td>\n",
              "      <td>2022</td>\n",
              "      <td>?</td>\n",
              "    </tr>\n",
              "  </tbody>\n",
              "</table>\n",
              "</div>"
            ],
            "text/plain": [
              "           home     score       away  year winner\n",
              "56      Germany  Match 58     Brazil  2022      ?\n",
              "57  Netherlands  Match 57  Argentina  2022      ?\n",
              "58        Spain  Match 60   Portugal  2022      ?\n",
              "59      England  Match 59     France  2022      ?"
            ]
          },
          "execution_count": 16,
          "metadata": {},
          "output_type": "execute_result"
        }
      ],
      "source": [
        "update_table(df_fixture_knockout, df_fixture_quarter)"
      ]
    },
    {
      "cell_type": "markdown",
      "metadata": {
        "id": "EBTmjR0iffGQ"
      },
      "source": [
        "Predecimos los ganadores de Cuartos de Final"
      ]
    },
    {
      "cell_type": "code",
      "execution_count": null,
      "metadata": {
        "id": "tgFmPBLMffGQ",
        "outputId": "3565dbf2-9b30-46f3-a848-877d433a8a8b"
      },
      "outputs": [
        {
          "data": {
            "text/html": [
              "<div>\n",
              "<style scoped>\n",
              "    .dataframe tbody tr th:only-of-type {\n",
              "        vertical-align: middle;\n",
              "    }\n",
              "\n",
              "    .dataframe tbody tr th {\n",
              "        vertical-align: top;\n",
              "    }\n",
              "\n",
              "    .dataframe thead th {\n",
              "        text-align: right;\n",
              "    }\n",
              "</style>\n",
              "<table border=\"1\" class=\"dataframe\">\n",
              "  <thead>\n",
              "    <tr style=\"text-align: right;\">\n",
              "      <th></th>\n",
              "      <th>home</th>\n",
              "      <th>score</th>\n",
              "      <th>away</th>\n",
              "      <th>year</th>\n",
              "      <th>winner</th>\n",
              "    </tr>\n",
              "  </thead>\n",
              "  <tbody>\n",
              "    <tr>\n",
              "      <th>56</th>\n",
              "      <td>Germany</td>\n",
              "      <td>Match 58</td>\n",
              "      <td>Brazil</td>\n",
              "      <td>2022</td>\n",
              "      <td>Brazil</td>\n",
              "    </tr>\n",
              "    <tr>\n",
              "      <th>57</th>\n",
              "      <td>Netherlands</td>\n",
              "      <td>Match 57</td>\n",
              "      <td>Argentina</td>\n",
              "      <td>2022</td>\n",
              "      <td>Netherlands</td>\n",
              "    </tr>\n",
              "    <tr>\n",
              "      <th>58</th>\n",
              "      <td>Spain</td>\n",
              "      <td>Match 60</td>\n",
              "      <td>Portugal</td>\n",
              "      <td>2022</td>\n",
              "      <td>Portugal</td>\n",
              "    </tr>\n",
              "    <tr>\n",
              "      <th>59</th>\n",
              "      <td>England</td>\n",
              "      <td>Match 59</td>\n",
              "      <td>France</td>\n",
              "      <td>2022</td>\n",
              "      <td>France</td>\n",
              "    </tr>\n",
              "  </tbody>\n",
              "</table>\n",
              "</div>"
            ],
            "text/plain": [
              "           home     score       away  year       winner\n",
              "56      Germany  Match 58     Brazil  2022       Brazil\n",
              "57  Netherlands  Match 57  Argentina  2022  Netherlands\n",
              "58        Spain  Match 60   Portugal  2022     Portugal\n",
              "59      England  Match 59     France  2022       France"
            ]
          },
          "execution_count": 17,
          "metadata": {},
          "output_type": "execute_result"
        }
      ],
      "source": [
        "get_winner(df_fixture_quarter)"
      ]
    },
    {
      "cell_type": "markdown",
      "metadata": {
        "id": "xlLKk_bHffGQ"
      },
      "source": [
        "Observamos que Paises Bajos se enfrenta contra Argentina y nuestro modelo predice que gana Paises Bajos.\n",
        "\n",
        "Teniendo como cuarto finalistas a Brasil, Paises Bajos, Portugal y Francia"
      ]
    },
    {
      "cell_type": "markdown",
      "metadata": {
        "id": "L4dG6gBgffGQ"
      },
      "source": [
        "# SEMIFINAL"
      ]
    },
    {
      "cell_type": "markdown",
      "metadata": {
        "id": "7r43YXvgffGQ"
      },
      "source": [
        "Actualizamos los partidos y creamos el Escenario"
      ]
    },
    {
      "cell_type": "code",
      "execution_count": null,
      "metadata": {
        "id": "LSichP2DffGQ",
        "outputId": "0cc15002-8b98-4098-8ba1-51ee486b2e26"
      },
      "outputs": [
        {
          "data": {
            "text/html": [
              "<div>\n",
              "<style scoped>\n",
              "    .dataframe tbody tr th:only-of-type {\n",
              "        vertical-align: middle;\n",
              "    }\n",
              "\n",
              "    .dataframe tbody tr th {\n",
              "        vertical-align: top;\n",
              "    }\n",
              "\n",
              "    .dataframe thead th {\n",
              "        text-align: right;\n",
              "    }\n",
              "</style>\n",
              "<table border=\"1\" class=\"dataframe\">\n",
              "  <thead>\n",
              "    <tr style=\"text-align: right;\">\n",
              "      <th></th>\n",
              "      <th>home</th>\n",
              "      <th>score</th>\n",
              "      <th>away</th>\n",
              "      <th>year</th>\n",
              "      <th>winner</th>\n",
              "    </tr>\n",
              "  </thead>\n",
              "  <tbody>\n",
              "    <tr>\n",
              "      <th>60</th>\n",
              "      <td>Netherlands</td>\n",
              "      <td>Match 61</td>\n",
              "      <td>Brazil</td>\n",
              "      <td>2022</td>\n",
              "      <td>?</td>\n",
              "    </tr>\n",
              "    <tr>\n",
              "      <th>61</th>\n",
              "      <td>France</td>\n",
              "      <td>Match 62</td>\n",
              "      <td>Portugal</td>\n",
              "      <td>2022</td>\n",
              "      <td>?</td>\n",
              "    </tr>\n",
              "  </tbody>\n",
              "</table>\n",
              "</div>"
            ],
            "text/plain": [
              "           home     score      away  year winner\n",
              "60  Netherlands  Match 61    Brazil  2022      ?\n",
              "61       France  Match 62  Portugal  2022      ?"
            ]
          },
          "execution_count": 18,
          "metadata": {},
          "output_type": "execute_result"
        }
      ],
      "source": [
        "update_table(df_fixture_quarter, df_fixture_semi)"
      ]
    },
    {
      "cell_type": "markdown",
      "metadata": {
        "id": "Xp10ZVxQffGR"
      },
      "source": [
        "Predecimos a los ganadores de la Semifinal"
      ]
    },
    {
      "cell_type": "code",
      "execution_count": null,
      "metadata": {
        "id": "leP_Rcq5ffGR",
        "outputId": "30a4275a-6a3d-46ed-b210-abfb9087059a"
      },
      "outputs": [
        {
          "data": {
            "text/html": [
              "<div>\n",
              "<style scoped>\n",
              "    .dataframe tbody tr th:only-of-type {\n",
              "        vertical-align: middle;\n",
              "    }\n",
              "\n",
              "    .dataframe tbody tr th {\n",
              "        vertical-align: top;\n",
              "    }\n",
              "\n",
              "    .dataframe thead th {\n",
              "        text-align: right;\n",
              "    }\n",
              "</style>\n",
              "<table border=\"1\" class=\"dataframe\">\n",
              "  <thead>\n",
              "    <tr style=\"text-align: right;\">\n",
              "      <th></th>\n",
              "      <th>home</th>\n",
              "      <th>score</th>\n",
              "      <th>away</th>\n",
              "      <th>year</th>\n",
              "      <th>winner</th>\n",
              "    </tr>\n",
              "  </thead>\n",
              "  <tbody>\n",
              "    <tr>\n",
              "      <th>60</th>\n",
              "      <td>Netherlands</td>\n",
              "      <td>Match 61</td>\n",
              "      <td>Brazil</td>\n",
              "      <td>2022</td>\n",
              "      <td>Brazil</td>\n",
              "    </tr>\n",
              "    <tr>\n",
              "      <th>61</th>\n",
              "      <td>France</td>\n",
              "      <td>Match 62</td>\n",
              "      <td>Portugal</td>\n",
              "      <td>2022</td>\n",
              "      <td>France</td>\n",
              "    </tr>\n",
              "  </tbody>\n",
              "</table>\n",
              "</div>"
            ],
            "text/plain": [
              "           home     score      away  year  winner\n",
              "60  Netherlands  Match 61    Brazil  2022  Brazil\n",
              "61       France  Match 62  Portugal  2022  France"
            ]
          },
          "execution_count": 19,
          "metadata": {},
          "output_type": "execute_result"
        }
      ],
      "source": [
        "get_winner(df_fixture_semi)"
      ]
    },
    {
      "cell_type": "markdown",
      "metadata": {
        "id": "DdracDucffGR"
      },
      "source": [
        "Observamos que Francia le gana a Portugal y que Brasil le gana a Paises Bajos.\n",
        "\n",
        "Quedando la Final Brasil vs Francia"
      ]
    },
    {
      "cell_type": "markdown",
      "metadata": {
        "id": "hfiil7BpffGR"
      },
      "source": [
        "# FINAL"
      ]
    },
    {
      "cell_type": "markdown",
      "metadata": {
        "id": "6BSJORKTffGR"
      },
      "source": [
        "Generamos los escenarios"
      ]
    },
    {
      "cell_type": "code",
      "execution_count": null,
      "metadata": {
        "id": "LFgp2b3OffGR",
        "outputId": "ba2260f7-5588-4889-afcd-7bc80c278ee9"
      },
      "outputs": [
        {
          "data": {
            "text/html": [
              "<div>\n",
              "<style scoped>\n",
              "    .dataframe tbody tr th:only-of-type {\n",
              "        vertical-align: middle;\n",
              "    }\n",
              "\n",
              "    .dataframe tbody tr th {\n",
              "        vertical-align: top;\n",
              "    }\n",
              "\n",
              "    .dataframe thead th {\n",
              "        text-align: right;\n",
              "    }\n",
              "</style>\n",
              "<table border=\"1\" class=\"dataframe\">\n",
              "  <thead>\n",
              "    <tr style=\"text-align: right;\">\n",
              "      <th></th>\n",
              "      <th>home</th>\n",
              "      <th>score</th>\n",
              "      <th>away</th>\n",
              "      <th>year</th>\n",
              "      <th>winner</th>\n",
              "    </tr>\n",
              "  </thead>\n",
              "  <tbody>\n",
              "    <tr>\n",
              "      <th>62</th>\n",
              "      <td>Losers Match 61</td>\n",
              "      <td>Match 63</td>\n",
              "      <td>Losers Match 62</td>\n",
              "      <td>2022</td>\n",
              "      <td>?</td>\n",
              "    </tr>\n",
              "    <tr>\n",
              "      <th>63</th>\n",
              "      <td>Brazil</td>\n",
              "      <td>Match 64</td>\n",
              "      <td>France</td>\n",
              "      <td>2022</td>\n",
              "      <td>?</td>\n",
              "    </tr>\n",
              "  </tbody>\n",
              "</table>\n",
              "</div>"
            ],
            "text/plain": [
              "               home     score             away  year winner\n",
              "62  Losers Match 61  Match 63  Losers Match 62  2022      ?\n",
              "63           Brazil  Match 64           France  2022      ?"
            ]
          },
          "execution_count": 20,
          "metadata": {},
          "output_type": "execute_result"
        }
      ],
      "source": [
        "update_table(df_fixture_semi, df_fixture_final)"
      ]
    },
    {
      "cell_type": "code",
      "execution_count": null,
      "metadata": {
        "id": "SqTpCTtOffGR",
        "outputId": "73b9a56d-fd66-4a26-b879-7949fd6ca84a"
      },
      "outputs": [
        {
          "data": {
            "text/html": [
              "<div>\n",
              "<style scoped>\n",
              "    .dataframe tbody tr th:only-of-type {\n",
              "        vertical-align: middle;\n",
              "    }\n",
              "\n",
              "    .dataframe tbody tr th {\n",
              "        vertical-align: top;\n",
              "    }\n",
              "\n",
              "    .dataframe thead th {\n",
              "        text-align: right;\n",
              "    }\n",
              "</style>\n",
              "<table border=\"1\" class=\"dataframe\">\n",
              "  <thead>\n",
              "    <tr style=\"text-align: right;\">\n",
              "      <th></th>\n",
              "      <th>home</th>\n",
              "      <th>score</th>\n",
              "      <th>away</th>\n",
              "      <th>year</th>\n",
              "      <th>winner</th>\n",
              "    </tr>\n",
              "  </thead>\n",
              "  <tbody>\n",
              "    <tr>\n",
              "      <th>62</th>\n",
              "      <td>Losers Match 61</td>\n",
              "      <td>Match 63</td>\n",
              "      <td>Losers Match 62</td>\n",
              "      <td>2022</td>\n",
              "      <td>Losers Match 62</td>\n",
              "    </tr>\n",
              "    <tr>\n",
              "      <th>63</th>\n",
              "      <td>Brazil</td>\n",
              "      <td>Match 64</td>\n",
              "      <td>France</td>\n",
              "      <td>2022</td>\n",
              "      <td>Brazil</td>\n",
              "    </tr>\n",
              "  </tbody>\n",
              "</table>\n",
              "</div>"
            ],
            "text/plain": [
              "               home     score             away  year           winner\n",
              "62  Losers Match 61  Match 63  Losers Match 62  2022  Losers Match 62\n",
              "63           Brazil  Match 64           France  2022           Brazil"
            ]
          },
          "execution_count": 21,
          "metadata": {},
          "output_type": "execute_result"
        }
      ],
      "source": [
        "get_winner(df_fixture_final)"
      ]
    },
    {
      "cell_type": "markdown",
      "metadata": {
        "id": "NuBmfx-dffGR"
      },
      "source": [
        "Teniendo como Ganador del Mundial Qatar 2022 a Brasil en la final contra Francia"
      ]
    }
  ],
  "metadata": {
    "kernelspec": {
      "display_name": "Python 3.9.6 64-bit",
      "language": "python",
      "name": "python3"
    },
    "language_info": {
      "codemirror_mode": {
        "name": "ipython",
        "version": 3
      },
      "file_extension": ".py",
      "mimetype": "text/x-python",
      "name": "python",
      "nbconvert_exporter": "python",
      "pygments_lexer": "ipython3",
      "version": "3.9.6"
    },
    "orig_nbformat": 4,
    "vscode": {
      "interpreter": {
        "hash": "81794d4967e6c3204c66dcd87b604927b115b27c00565d3d43f05ba2f3a2cb0d"
      }
    },
    "colab": {
      "provenance": [],
      "include_colab_link": true
    }
  },
  "nbformat": 4,
  "nbformat_minor": 0
}